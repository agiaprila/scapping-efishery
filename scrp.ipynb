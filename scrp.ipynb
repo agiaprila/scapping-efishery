{
 "cells": [
  {
   "cell_type": "code",
   "execution_count": 5,
   "metadata": {},
   "outputs": [
    {
     "name": "stdout",
     "output_type": "stream",
     "text": [
      "Collecting app-store-scraper\n",
      "  Downloading app_store_scraper-0.3.5-py3-none-any.whl (8.3 kB)\n",
      "Collecting requests==2.23.0\n",
      "  Downloading requests-2.23.0-py2.py3-none-any.whl (58 kB)Note: you may need to restart the kernel to use updated packages.\n",
      "     -------------------------------------- 58.4/58.4 kB 441.9 kB/s eta 0:00:00\n",
      "Collecting chardet<4,>=3.0.2\n",
      "  Downloading chardet-3.0.4-py2.py3-none-any.whl (133 kB)\n",
      "     -------------------------------------- 133.4/133.4 kB 1.6 MB/s eta 0:00:00\n",
      "Collecting urllib3!=1.25.0,!=1.25.1,<1.26,>=1.21.1\n",
      "\n"
     ]
    },
    {
     "name": "stderr",
     "output_type": "stream",
     "text": [
      "\n",
      "[notice] A new release of pip available: 22.3 -> 22.3.1\n",
      "[notice] To update, run: python.exe -m pip install --upgrade pip\n"
     ]
    },
    {
     "name": "stdout",
     "output_type": "stream",
     "text": [
      "  Downloading urllib3-1.25.11-py2.py3-none-any.whl (127 kB)\n",
      "     -------------------------------------- 128.0/128.0 kB 1.5 MB/s eta 0:00:00\n",
      "Requirement already satisfied: certifi>=2017.4.17 in c:\\users\\lenovo\\appdata\\local\\programs\\python\\python310\\lib\\site-packages (from requests==2.23.0->app-store-scraper) (2021.10.8)\n",
      "Collecting idna<3,>=2.5\n",
      "  Downloading idna-2.10-py2.py3-none-any.whl (58 kB)\n",
      "     ---------------------------------------- 58.8/58.8 kB 1.6 MB/s eta 0:00:00\n",
      "Installing collected packages: chardet, urllib3, idna, requests, app-store-scraper\n",
      "  Attempting uninstall: urllib3\n",
      "    Found existing installation: urllib3 1.26.7\n",
      "    Uninstalling urllib3-1.26.7:\n",
      "      Successfully uninstalled urllib3-1.26.7\n",
      "  Attempting uninstall: idna\n",
      "    Found existing installation: idna 3.3\n",
      "    Uninstalling idna-3.3:\n",
      "      Successfully uninstalled idna-3.3\n",
      "  Attempting uninstall: requests\n",
      "    Found existing installation: requests 2.26.0\n",
      "    Uninstalling requests-2.26.0:\n",
      "      Successfully uninstalled requests-2.26.0\n",
      "Successfully installed app-store-scraper-0.3.5 chardet-3.0.4 idna-2.10 requests-2.23.0 urllib3-1.25.11\n"
     ]
    }
   ],
   "source": [
    "pip install app-store-scraper"
   ]
  },
  {
   "cell_type": "markdown",
   "metadata": {},
   "source": [
    "#Import Library/Package"
   ]
  },
  {
   "cell_type": "code",
   "execution_count": 14,
   "metadata": {},
   "outputs": [],
   "source": [
    "from google_play_scraper import app, Sort, reviews_all\n",
    "from app_store_scraper import AppStore\n",
    "import pandas as pd\n",
    "import numpy as np\n",
    "import json, os, uuid"
   ]
  },
  {
   "cell_type": "code",
   "execution_count": 25,
   "metadata": {},
   "outputs": [],
   "source": [
    "efishery_reviews= reviews_all(\n",
    "    \"com.efishery.stg_membership.twa\", #last link in google play store\n",
    "    sleep_milliseconds=0,\n",
    "    lang='id', #default en\n",
    "    country='id', # for country default us\n",
    "    sort=Sort.NEWEST, # sort comment latest \n",
    "    count=100,\n",
    "    filter_score_with=None #for take a  comment all 1 - 5 \n",
    ")"
   ]
  },
  {
   "cell_type": "code",
   "execution_count": 27,
   "metadata": {},
   "outputs": [
    {
     "data": {
      "text/html": [
       "<div>\n",
       "<style scoped>\n",
       "    .dataframe tbody tr th:only-of-type {\n",
       "        vertical-align: middle;\n",
       "    }\n",
       "\n",
       "    .dataframe tbody tr th {\n",
       "        vertical-align: top;\n",
       "    }\n",
       "\n",
       "    .dataframe thead th {\n",
       "        text-align: right;\n",
       "    }\n",
       "</style>\n",
       "<table border=\"1\" class=\"dataframe\">\n",
       "  <thead>\n",
       "    <tr style=\"text-align: right;\">\n",
       "      <th></th>\n",
       "      <th>reviewId</th>\n",
       "      <th>userName</th>\n",
       "      <th>userImage</th>\n",
       "      <th>content</th>\n",
       "      <th>score</th>\n",
       "      <th>thumbsUpCount</th>\n",
       "      <th>reviewCreatedVersion</th>\n",
       "      <th>at</th>\n",
       "      <th>replyContent</th>\n",
       "      <th>repliedAt</th>\n",
       "    </tr>\n",
       "  </thead>\n",
       "  <tbody>\n",
       "    <tr>\n",
       "      <th>0</th>\n",
       "      <td>d6d2e703-0e3d-46e5-88fb-aea7edbb11ae</td>\n",
       "      <td>Amri Dh</td>\n",
       "      <td>https://play-lh.googleusercontent.com/a/ALm5wu...</td>\n",
       "      <td>Setelah isi data diri kabayan, eh.. malah gaga...</td>\n",
       "      <td>1</td>\n",
       "      <td>0</td>\n",
       "      <td>3.6.1</td>\n",
       "      <td>2022-11-08 07:49:29</td>\n",
       "      <td>None</td>\n",
       "      <td>NaT</td>\n",
       "    </tr>\n",
       "    <tr>\n",
       "      <th>1</th>\n",
       "      <td>e3bee84b-6732-4aca-bc46-1bbf4e519653</td>\n",
       "      <td>Acepa Aku</td>\n",
       "      <td>https://play-lh.googleusercontent.com/a/ALm5wu...</td>\n",
       "      <td>Mantul,smoga efishery trs jaya</td>\n",
       "      <td>5</td>\n",
       "      <td>0</td>\n",
       "      <td>3.3.0</td>\n",
       "      <td>2022-11-07 12:16:05</td>\n",
       "      <td>None</td>\n",
       "      <td>NaT</td>\n",
       "    </tr>\n",
       "    <tr>\n",
       "      <th>2</th>\n",
       "      <td>c067a8dd-e98d-48e4-91dd-c6c5f40b133e</td>\n",
       "      <td>Petani Ikan</td>\n",
       "      <td>https://play-lh.googleusercontent.com/a/ALm5wu...</td>\n",
       "      <td>Mantap poko ny soal ny bisa sdikit mmbantu</td>\n",
       "      <td>5</td>\n",
       "      <td>0</td>\n",
       "      <td>3.6.1</td>\n",
       "      <td>2022-11-06 19:44:07</td>\n",
       "      <td>None</td>\n",
       "      <td>NaT</td>\n",
       "    </tr>\n",
       "    <tr>\n",
       "      <th>3</th>\n",
       "      <td>8b3d9b2e-bfab-4671-9cff-e8fb108ad047</td>\n",
       "      <td>Prima Cell</td>\n",
       "      <td>https://play-lh.googleusercontent.com/a-/ACNPE...</td>\n",
       "      <td>Ndak bisa dibuka</td>\n",
       "      <td>1</td>\n",
       "      <td>0</td>\n",
       "      <td>3.6.1</td>\n",
       "      <td>2022-11-05 18:45:21</td>\n",
       "      <td>Terima kasih atas partisipasinya memberikan ra...</td>\n",
       "      <td>2022-10-18 11:45:03</td>\n",
       "    </tr>\n",
       "    <tr>\n",
       "      <th>4</th>\n",
       "      <td>b077847c-eb4a-4841-877f-e26ca1f2a57b</td>\n",
       "      <td>Martino Ashar</td>\n",
       "      <td>https://play-lh.googleusercontent.com/a-/ACNPE...</td>\n",
       "      <td>Aplikasi tidak jelas. Mau beli pakan sudah di ...</td>\n",
       "      <td>1</td>\n",
       "      <td>2</td>\n",
       "      <td>3.6.0</td>\n",
       "      <td>2022-11-03 20:12:57</td>\n",
       "      <td>None</td>\n",
       "      <td>NaT</td>\n",
       "    </tr>\n",
       "  </tbody>\n",
       "</table>\n",
       "</div>"
      ],
      "text/plain": [
       "                               reviewId       userName  \\\n",
       "0  d6d2e703-0e3d-46e5-88fb-aea7edbb11ae        Amri Dh   \n",
       "1  e3bee84b-6732-4aca-bc46-1bbf4e519653      Acepa Aku   \n",
       "2  c067a8dd-e98d-48e4-91dd-c6c5f40b133e    Petani Ikan   \n",
       "3  8b3d9b2e-bfab-4671-9cff-e8fb108ad047     Prima Cell   \n",
       "4  b077847c-eb4a-4841-877f-e26ca1f2a57b  Martino Ashar   \n",
       "\n",
       "                                           userImage  \\\n",
       "0  https://play-lh.googleusercontent.com/a/ALm5wu...   \n",
       "1  https://play-lh.googleusercontent.com/a/ALm5wu...   \n",
       "2  https://play-lh.googleusercontent.com/a/ALm5wu...   \n",
       "3  https://play-lh.googleusercontent.com/a-/ACNPE...   \n",
       "4  https://play-lh.googleusercontent.com/a-/ACNPE...   \n",
       "\n",
       "                                             content  score  thumbsUpCount  \\\n",
       "0  Setelah isi data diri kabayan, eh.. malah gaga...      1              0   \n",
       "1                     Mantul,smoga efishery trs jaya      5              0   \n",
       "2         Mantap poko ny soal ny bisa sdikit mmbantu      5              0   \n",
       "3                                   Ndak bisa dibuka      1              0   \n",
       "4  Aplikasi tidak jelas. Mau beli pakan sudah di ...      1              2   \n",
       "\n",
       "  reviewCreatedVersion                  at  \\\n",
       "0                3.6.1 2022-11-08 07:49:29   \n",
       "1                3.3.0 2022-11-07 12:16:05   \n",
       "2                3.6.1 2022-11-06 19:44:07   \n",
       "3                3.6.1 2022-11-05 18:45:21   \n",
       "4                3.6.0 2022-11-03 20:12:57   \n",
       "\n",
       "                                        replyContent           repliedAt  \n",
       "0                                               None                 NaT  \n",
       "1                                               None                 NaT  \n",
       "2                                               None                 NaT  \n",
       "3  Terima kasih atas partisipasinya memberikan ra... 2022-10-18 11:45:03  \n",
       "4                                               None                 NaT  "
      ]
     },
     "execution_count": 27,
     "metadata": {},
     "output_type": "execute_result"
    }
   ],
   "source": [
    "df_efish = pd.DataFrame(np.array(efishery_reviews), columns=['review'])\n",
    "df_efish = df_efish.join(pd.DataFrame(df_efish.pop('review').tolist()))\n",
    "df_efish.head()"
   ]
  },
  {
   "cell_type": "code",
   "execution_count": 28,
   "metadata": {},
   "outputs": [
    {
     "data": {
      "text/plain": [
       "181"
      ]
     },
     "execution_count": 28,
     "metadata": {},
     "output_type": "execute_result"
    }
   ],
   "source": [
    "len(df_efish.index)"
   ]
  },
  {
   "cell_type": "code",
   "execution_count": 29,
   "metadata": {},
   "outputs": [
    {
     "data": {
      "text/html": [
       "<div>\n",
       "<style scoped>\n",
       "    .dataframe tbody tr th:only-of-type {\n",
       "        vertical-align: middle;\n",
       "    }\n",
       "\n",
       "    .dataframe tbody tr th {\n",
       "        vertical-align: top;\n",
       "    }\n",
       "\n",
       "    .dataframe thead th {\n",
       "        text-align: right;\n",
       "    }\n",
       "</style>\n",
       "<table border=\"1\" class=\"dataframe\">\n",
       "  <thead>\n",
       "    <tr style=\"text-align: right;\">\n",
       "      <th></th>\n",
       "      <th>userName</th>\n",
       "      <th>score</th>\n",
       "      <th>at</th>\n",
       "      <th>content</th>\n",
       "    </tr>\n",
       "  </thead>\n",
       "  <tbody>\n",
       "    <tr>\n",
       "      <th>0</th>\n",
       "      <td>Amri Dh</td>\n",
       "      <td>1</td>\n",
       "      <td>2022-11-08 07:49:29</td>\n",
       "      <td>Setelah isi data diri kabayan, eh.. malah gaga...</td>\n",
       "    </tr>\n",
       "    <tr>\n",
       "      <th>1</th>\n",
       "      <td>Acepa Aku</td>\n",
       "      <td>5</td>\n",
       "      <td>2022-11-07 12:16:05</td>\n",
       "      <td>Mantul,smoga efishery trs jaya</td>\n",
       "    </tr>\n",
       "    <tr>\n",
       "      <th>2</th>\n",
       "      <td>Petani Ikan</td>\n",
       "      <td>5</td>\n",
       "      <td>2022-11-06 19:44:07</td>\n",
       "      <td>Mantap poko ny soal ny bisa sdikit mmbantu</td>\n",
       "    </tr>\n",
       "    <tr>\n",
       "      <th>3</th>\n",
       "      <td>Prima Cell</td>\n",
       "      <td>1</td>\n",
       "      <td>2022-11-05 18:45:21</td>\n",
       "      <td>Ndak bisa dibuka</td>\n",
       "    </tr>\n",
       "    <tr>\n",
       "      <th>4</th>\n",
       "      <td>Martino Ashar</td>\n",
       "      <td>1</td>\n",
       "      <td>2022-11-03 20:12:57</td>\n",
       "      <td>Aplikasi tidak jelas. Mau beli pakan sudah di ...</td>\n",
       "    </tr>\n",
       "  </tbody>\n",
       "</table>\n",
       "</div>"
      ],
      "text/plain": [
       "        userName  score                  at  \\\n",
       "0        Amri Dh      1 2022-11-08 07:49:29   \n",
       "1      Acepa Aku      5 2022-11-07 12:16:05   \n",
       "2    Petani Ikan      5 2022-11-06 19:44:07   \n",
       "3     Prima Cell      1 2022-11-05 18:45:21   \n",
       "4  Martino Ashar      1 2022-11-03 20:12:57   \n",
       "\n",
       "                                             content  \n",
       "0  Setelah isi data diri kabayan, eh.. malah gaga...  \n",
       "1                     Mantul,smoga efishery trs jaya  \n",
       "2         Mantap poko ny soal ny bisa sdikit mmbantu  \n",
       "3                                   Ndak bisa dibuka  \n",
       "4  Aplikasi tidak jelas. Mau beli pakan sudah di ...  "
      ]
     },
     "execution_count": 29,
     "metadata": {},
     "output_type": "execute_result"
    }
   ],
   "source": [
    "df_efish[['userName','score','at','content']].head()"
   ]
  },
  {
   "cell_type": "code",
   "execution_count": 30,
   "metadata": {},
   "outputs": [],
   "source": [
    "my_df_efish = df_efish[['userName','score','at','content']]"
   ]
  },
  {
   "cell_type": "code",
   "execution_count": null,
   "metadata": {},
   "outputs": [],
   "source": [
    "#save data to csv\n",
    "my_df_efish.to_csv(\"scrap_efish_data.csv\", index=False)\n"
   ]
  }
 ],
 "metadata": {
  "kernelspec": {
   "display_name": "Python 3",
   "language": "python",
   "name": "python3"
  },
  "language_info": {
   "codemirror_mode": {
    "name": "ipython",
    "version": 3
   },
   "file_extension": ".py",
   "mimetype": "text/x-python",
   "name": "python",
   "nbconvert_exporter": "python",
   "pygments_lexer": "ipython3",
   "version": "3.10.0"
  },
  "orig_nbformat": 4,
  "vscode": {
   "interpreter": {
    "hash": "f2ccb58c476f33ba3e3aee7ac07234ef6b8217ef24ad64d2a7d4fed1a57c1cd2"
   }
  }
 },
 "nbformat": 4,
 "nbformat_minor": 2
}
